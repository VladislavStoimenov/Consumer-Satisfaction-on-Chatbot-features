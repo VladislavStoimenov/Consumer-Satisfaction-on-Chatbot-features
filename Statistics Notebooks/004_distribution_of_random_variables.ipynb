{
 "cells": [
  {
   "cell_type": "code",
   "execution_count": 1,
   "metadata": {},
   "outputs": [],
   "source": [
    "import numpy as np\n",
    "import matplotlib.pyplot as plt"
   ]
  },
  {
   "cell_type": "markdown",
   "metadata": {},
   "source": [
    "NumPy makes it easy to simulate all the distributions covered in Chapter 4. Let's explore each distribution with a practical example."
   ]
  },
  {
   "cell_type": "markdown",
   "metadata": {},
   "source": [
    "## 1. Normal distribution (Page 133 - Section 4.1)"
   ]
  },
  {
   "cell_type": "markdown",
   "metadata": {},
   "source": [
    "Simulating the height of adult men in a population, where the mean height is 175 cm and the standard deviation is 10 cm."
   ]
  },
  {
   "cell_type": "code",
   "execution_count": 2,
   "metadata": {},
   "outputs": [],
   "source": [
    "mu = 175    # Mean height in cm\n",
    "sigma = 10  # Standard deviation in cm"
   ]
  },
  {
   "cell_type": "code",
   "execution_count": 52,
   "metadata": {},
   "outputs": [
    {
     "data": {
      "text/plain": [
       "193.215790232761"
      ]
     },
     "execution_count": 52,
     "metadata": {},
     "output_type": "execute_result"
    }
   ],
   "source": [
    "# This will sample a single individual\n",
    "# from N(μ, σ)\n",
    "# Run this cell multiple times\n",
    "# How many trials does it take you to see someone 190 cm or taller? 2m or taller?\n",
    "np.random.normal(mu, sigma)"
   ]
  },
  {
   "cell_type": "code",
   "execution_count": 59,
   "metadata": {},
   "outputs": [
    {
     "data": {
      "text/plain": [
       "Text(0, 0.5, 'Frequency')"
      ]
     },
     "execution_count": 59,
     "metadata": {},
     "output_type": "execute_result"
    },
    {
     "data": {
      "image/png": "[encoded data removed]",
      "text/plain": [
       "<Figure size 640x480 with 1 Axes>"
      ]
     },
     "metadata": {},
     "output_type": "display_data"
    }
   ],
   "source": [
    "# Instead of sampling individuals one by one\n",
    "# We can sample n people as follows\n",
    "n = 10000 # Number of people\n",
    "\n",
    "# Generate samples\n",
    "heights = np.random.normal(mu, sigma, n)\n",
    "\n",
    "# Plot\n",
    "plt.hist(heights, bins=30, density=True)\n",
    "plt.title('Normal Distribution of Heights')\n",
    "plt.xlabel('Height (cm)')\n",
    "plt.ylabel('Frequency')"
   ]
  },
  {
   "cell_type": "markdown",
   "metadata": {},
   "source": [
    "Calculate the percentage of individuals within 2 standard deviations of the mean and verify if it aligns with the 68-95-99.7 rule."
   ]
  },
  {
   "cell_type": "code",
   "execution_count": 70,
   "metadata": {},
   "outputs": [
    {
     "data": {
      "text/plain": [
       "95.42"
      ]
     },
     "execution_count": 70,
     "metadata": {},
     "output_type": "execute_result"
    }
   ],
   "source": [
    "# YOUR CODE HERE\n",
    "np.sum(((mu-2*sigma) < heights) & (heights < (mu+2*sigma))) / n *100"
   ]
  },
  {
   "cell_type": "code",
   "execution_count": 69,
   "metadata": {},
   "outputs": [
    {
     "data": {
      "text/plain": [
       "0.9542"
      ]
     },
     "execution_count": 69,
     "metadata": {},
     "output_type": "execute_result"
    }
   ],
   "source": [
    "# Percentage of individuals within 2 sigma of the mean is expected to be 95%\n",
    "np.sum(((mu-2*sigma) < heights) & (heights < (mu+2*sigma))) / n"
   ]
  },
  {
   "cell_type": "markdown",
   "metadata": {},
   "source": [
    "EXERCISE\n",
    "\n",
    "Percentage of people shorter than 190 cm based on the simulation?"
   ]
  },
  {
   "cell_type": "code",
   "execution_count": 71,
   "metadata": {},
   "outputs": [
    {
     "data": {
      "text/plain": [
       "93.26"
      ]
     },
     "execution_count": 71,
     "metadata": {},
     "output_type": "execute_result"
    }
   ],
   "source": [
    "# YOUR CODE\n",
    "100*np.sum(heights<190)/n"
   ]
  },
  {
   "cell_type": "code",
   "execution_count": 72,
   "metadata": {},
   "outputs": [
    {
     "data": {
      "text/plain": [
       "93.26"
      ]
     },
     "execution_count": 72,
     "metadata": {},
     "output_type": "execute_result"
    }
   ],
   "source": [
    "100*np.sum(heights < 190)/n"
   ]
  },
  {
   "cell_type": "markdown",
   "metadata": {},
   "source": [
    "Let's answer the same question without the simulation. In section 4.1.3 Finding tail areas, there are 3 options described. Let's use the first option \"The most common approach in practice is to use statistical software.\" with scipy.\n",
    "\n",
    "Using scipy, you can easily convert a z-score into a percentile."
   ]
  },
  {
   "cell_type": "code",
   "execution_count": 83,
   "metadata": {},
   "outputs": [
    {
     "data": {
      "text/plain": [
       "1.5"
      ]
     },
     "execution_count": 83,
     "metadata": {},
     "output_type": "execute_result"
    }
   ],
   "source": [
    "z = (190 - mu)/sigma\n",
    "z"
   ]
  },
  {
   "cell_type": "code",
   "execution_count": 89,
   "metadata": {},
   "outputs": [
    {
     "data": {
      "text/plain": [
       "93.3192798731142"
      ]
     },
     "execution_count": 89,
     "metadata": {},
     "output_type": "execute_result"
    }
   ],
   "source": [
    "from scipy.stats import norm\n",
    "percentile = norm.cdf(z) * 100\n",
    "percentile"
   ]
  },
  {
   "cell_type": "markdown",
   "metadata": {},
   "source": [
    "## 2. Geometric Distribution (Page 144 - Section 4.2)"
   ]
  },
  {
   "cell_type": "markdown",
   "metadata": {},
   "source": [
    "The number of sales calls a salesperson needs to make to close their first deal, given that the probability of closing a deal on any given call is 0.1."
   ]
  },
  {
   "cell_type": "code",
   "execution_count": 90,
   "metadata": {},
   "outputs": [],
   "source": [
    "p = 0.1  # Probability of closing a deal on a single call"
   ]
  },
  {
   "cell_type": "code",
   "execution_count": 115,
   "metadata": {},
   "outputs": [
    {
     "data": {
      "text/plain": [
       "11"
      ]
     },
     "execution_count": 115,
     "metadata": {},
     "output_type": "execute_result"
    }
   ],
   "source": [
    "# Every time you run this cell,\n",
    "# you simulate a salesperson making calls until they close a deal\n",
    "# and return the number of calls made.\n",
    "# The beauty of a simulation is that\n",
    "# you don't need an actual salesperson to perform this experiment!\n",
    "# RUN THIS CELL MULTIPLE TIMES\n",
    "\n",
    "np.random.geometric(p)"
   ]
  },
  {
   "cell_type": "code",
   "execution_count": 121,
   "metadata": {},
   "outputs": [
    {
     "data": {
      "text/plain": [
       "Text(0, 0.5, 'Frequency')"
      ]
     },
     "execution_count": 121,
     "metadata": {},
     "output_type": "execute_result"
    },
    {
     "data": {
      "image/png": "[encoded data removed]",
      "text/plain": [
       "<Figure size 640x480 with 1 Axes>"
      ]
     },
     "metadata": {},
     "output_type": "display_data"
    }
   ],
   "source": [
    "# Let's simulate 10000 salespeople, each with p=0.1\n",
    "size = 10000 # Number of simulations\n",
    "\n",
    "# Generate samples\n",
    "calls_until_first_deal = np.random.geometric(p, size)\n",
    "\n",
    "# Plot\n",
    "plt.hist(calls_until_first_deal, bins=range(1, max(calls_until_first_deal)+1), density=True)\n",
    "plt.title('Geometric Distribution of Calls Until First Deal')\n",
    "plt.xlabel('Number of Calls')\n",
    "plt.ylabel('Frequency')"
   ]
  },
  {
   "cell_type": "code",
   "execution_count": 122,
   "metadata": {},
   "outputs": [
    {
     "data": {
      "text/plain": [
       "10.0"
      ]
     },
     "execution_count": 122,
     "metadata": {},
     "output_type": "execute_result"
    }
   ],
   "source": [
    "# In page 146, the mean of a geometric distribution is given as 1/p\n",
    "mean_equation = 1/p\n",
    "mean_equation"
   ]
  },
  {
   "cell_type": "code",
   "execution_count": 128,
   "metadata": {},
   "outputs": [
    {
     "data": {
      "text/plain": [
       "9.9662"
      ]
     },
     "execution_count": 128,
     "metadata": {},
     "output_type": "execute_result"
    }
   ],
   "source": [
    "# Let's verify if the result from our simulation is aligned with this formula\n",
    "mean_simulation = np.mean(calls_until_first_deal)\n",
    "mean_simulation"
   ]
  },
  {
   "cell_type": "markdown",
   "metadata": {},
   "source": [
    "EXERCISE\n",
    "\n",
    "Calculate the standard deviation using the formula from page 146 and compare that with the standard deviation from the simulation."
   ]
  },
  {
   "cell_type": "code",
   "execution_count": 130,
   "metadata": {},
   "outputs": [
    {
     "data": {
      "text/plain": [
       "9.486832980505138"
      ]
     },
     "execution_count": 130,
     "metadata": {},
     "output_type": "execute_result"
    }
   ],
   "source": [
    "# YOUR CODE HERE\n",
    "stdev = np.sqrt((1-p)/p**2)\n",
    "stdev"
   ]
  },
  {
   "cell_type": "code",
   "execution_count": 131,
   "metadata": {},
   "outputs": [
    {
     "data": {
      "text/plain": [
       "9.486832980505138"
      ]
     },
     "execution_count": 131,
     "metadata": {},
     "output_type": "execute_result"
    }
   ],
   "source": [
    "# SOLUTION\n",
    "std_equation = np.sqrt((1-p)/p**2)\n",
    "std_equation"
   ]
  },
  {
   "cell_type": "code",
   "execution_count": 134,
   "metadata": {},
   "outputs": [
    {
     "data": {
      "text/plain": [
       "9.317185119651503"
      ]
     },
     "execution_count": 134,
     "metadata": {},
     "output_type": "execute_result"
    }
   ],
   "source": [
    "std_simulation = np.std(calls_until_first_deal, ddof=1)\n",
    "std_simulation"
   ]
  },
  {
   "cell_type": "markdown",
   "metadata": {},
   "source": [
    "EXERCISE\n",
    "\n",
    "Let's say we would like to know the probability of making 70 or more calls until first success, would it be appropriate to use the normal model? As you can clearly see, the geometric distribution is right skewed and can never be well-approximated by the normal model.\n",
    "\n",
    "Use the simulation results to estimate the probability of making 70 or more calls until first success, when p=0.1."
   ]
  },
  {
   "cell_type": "code",
   "execution_count": 135,
   "metadata": {},
   "outputs": [
    {
     "data": {
      "text/plain": [
       "0.09"
      ]
     },
     "execution_count": 135,
     "metadata": {},
     "output_type": "execute_result"
    }
   ],
   "source": [
    "# YOUR CODE HERE\n",
    "100*np.sum(calls_until_first_deal >= 70)/size"
   ]
  },
  {
   "cell_type": "code",
   "execution_count": 136,
   "metadata": {},
   "outputs": [
    {
     "data": {
      "text/plain": [
       "0.09"
      ]
     },
     "execution_count": 136,
     "metadata": {},
     "output_type": "execute_result"
    }
   ],
   "source": [
    "# SOLUTION\n",
    "100*np.sum(calls_until_first_deal >= 70)/size"
   ]
  },
  {
   "cell_type": "markdown",
   "metadata": {},
   "source": [
    "Let's say someone made a mistake and calculated this probability using the normal assumption:"
   ]
  },
  {
   "cell_type": "code",
   "execution_count": 159,
   "metadata": {},
   "outputs": [
    {
     "data": {
      "text/plain": [
       "6.324555320336758"
      ]
     },
     "execution_count": 159,
     "metadata": {},
     "output_type": "execute_result"
    }
   ],
   "source": [
    "z = (70 - mean_equation)/std_equation\n",
    "z"
   ]
  },
  {
   "cell_type": "code",
   "execution_count": 163,
   "metadata": {},
   "outputs": [
    {
     "data": {
      "text/plain": [
       "1.269813765247818e-08"
      ]
     },
     "execution_count": 163,
     "metadata": {},
     "output_type": "execute_result"
    }
   ],
   "source": [
    "100 - (norm.cdf(z) * 100)"
   ]
  },
  {
   "cell_type": "markdown",
   "metadata": {},
   "source": [
    "As you can see, if one had assumed a normal distribution, the probability of needing 70 or more calls would have been nearly zero. However, our simulation shows that it is much larger (%0.05-0.09). While still small, it is not negligible."
   ]
  },
  {
   "cell_type": "markdown",
   "metadata": {},
   "source": [
    "\n",
    "\n",
    "The 2008 financial crisis is a prime example where models assuming normal distribution underestimated the risk of extreme events.\n",
    "\n",
    "[Structural causes of the global financial crisis: a critical assessment of the ‘new financial architecture’](https://academic.oup.com/cje/article/33/4/563/1730705)\n",
    "\n",
    "\"There are four fundamental flaws in this mode of risk assessment. First...\n",
    "Second, VAR models assume that security prices are generated by a normal\n",
    "distribution. In a normal distribution the likelihood that an observation many standard\n",
    "deviations beyond a 95% or even a 99% confidence interval will occur is infinitesimal. In\n",
    "fact, security prices follow a distribution in which the preponderance of observations are\n",
    "‘normal’, but every five to ten years observations occur that are so far from the mean that\n",
    "they are virtually incompatible with the assumption of a normal distribution. Examples\n",
    "of this well-known ‘fat tail’ phenomenon include the precipitous drop in stock prices that\n",
    "took place in August 1987, the global crisis brought on by the collapse of the giant hedge\n",
    "fund Long Term Capital Management, the Asian crisis and the recent global stock\n",
    "market and CDO crash. In August 2007, two large hedge funds managed by Goldman\n",
    "Sachs collapsed, forcing Goldman to inject $3 billion into the funds. To explain why\n",
    "Goldman should not be held responsible for their collapse, chief financial officer David\n",
    "Viniar said ‘We were seeing things that were 25 standard deviation moves, several days in\n",
    "a row’ (Financial Times, 2007B, p. 25). The Director for Financial Stability of the Bank of\n",
    "England noted that, under a normal distribution, ‘a 25-sigma event would be expected to\n",
    "occur once every $6x10^{124}$ lives of the universe’ adding, tongue-in-cheek, that when he\n",
    "tried to calculate the probability of such an event occurring several days in a row, ‘the lights\n",
    "visibly dimmed over London’. Even a 7.3 standard deviation event should occur only once\n",
    "every 13 billion years (Haldane, 2009, p. 2). Allowing banks to estimate risk and set capital\n",
    "requirements on the assumption that large losses cannot happen left them vulnerable when\n",
    "the crisis erupted.\""
   ]
  },
  {
   "cell_type": "markdown",
   "metadata": {},
   "source": [
    "so be careful with your assumptions :)"
   ]
  },
  {
   "cell_type": "markdown",
   "metadata": {},
   "source": [
    "You can test for normality:"
   ]
  },
  {
   "cell_type": "code",
   "execution_count": 166,
   "metadata": {},
   "outputs": [
    {
     "data": {
      "text/plain": [
       "NormaltestResult(statistic=4218.746023578224, pvalue=0.0)"
      ]
     },
     "execution_count": 166,
     "metadata": {},
     "output_type": "execute_result"
    }
   ],
   "source": [
    "from scipy.stats import normaltest\n",
    "normaltest(calls_until_first_deal)"
   ]
  },
  {
   "cell_type": "markdown",
   "metadata": {},
   "source": [
    "Read the documentation for the interpretation:\n",
    "https://docs.scipy.org/doc/scipy/reference/generated/scipy.stats.normaltest.html\n",
    "\n",
    "There are other ways to test for normality:\n",
    "https://machinelearningmastery.com/a-gentle-introduction-to-normality-tests-in-python/\n"
   ]
  },
  {
   "cell_type": "markdown",
   "metadata": {},
   "source": [
    "## 3. Binomial distribution (Page 149 - Section 4.3)"
   ]
  },
  {
   "cell_type": "markdown",
   "metadata": {},
   "source": [
    "Simulating the probability of getting k heads in 100 coin flips, where the coin is fair."
   ]
  },
  {
   "cell_type": "code",
   "execution_count": 168,
   "metadata": {},
   "outputs": [
    {
     "data": {
      "text/plain": [
       "Text(0, 0.5, 'Frequency')"
      ]
     },
     "execution_count": 168,
     "metadata": {},
     "output_type": "execute_result"
    },
    {
     "data": {
      "image/png": "[encoded data removed]",
      "text/plain": [
       "<Figure size 640x480 with 1 Axes>"
      ]
     },
     "metadata": {},
     "output_type": "display_data"
    }
   ],
   "source": [
    "# Parameters\n",
    "n = 100    # Number of coin flips\n",
    "p = 0.5    # Probability of heads\n",
    "size = 1000 # Number of samples\n",
    "\n",
    "# Generate samples\n",
    "heads = np.random.binomial(n, p, size)\n",
    "\n",
    "# Plot\n",
    "plt.hist(heads, bins=range(101), density=True)\n",
    "plt.title('Binomial Distribution: Probability of k Heads in 100 Coin Flips')\n",
    "plt.xlabel('Number of Heads')\n",
    "plt.ylabel('Frequency')"
   ]
  },
  {
   "cell_type": "markdown",
   "metadata": {},
   "source": [
    "EXERCISE\n",
    "\n",
    "Probability of observing 50 heads in 100 coin flips? Solution available below."
   ]
  },
  {
   "cell_type": "code",
   "execution_count": 171,
   "metadata": {},
   "outputs": [
    {
     "data": {
      "text/plain": [
       "100891344545564193334812497256"
      ]
     },
     "execution_count": 171,
     "metadata": {},
     "output_type": "execute_result"
    }
   ],
   "source": [
    "# YOUR CODE HERE\n",
    "import math\n",
    "n=100\n",
    "k=50\n",
    "math.comb(n, k)"
   ]
  },
  {
   "cell_type": "markdown",
   "metadata": {},
   "source": [
    "The formula for the calculation involves calculating ${n\\choose k}$ (see page 150). This is called a [combination](https://en.wikipedia.org/wiki/Combination) in mathematics. The math module from the the Python Standard Library can calculate n choose k easily:"
   ]
  },
  {
   "cell_type": "code",
   "execution_count": 172,
   "metadata": {},
   "outputs": [
    {
     "data": {
      "text/plain": [
       "100891344545564193334812497256"
      ]
     },
     "execution_count": 172,
     "metadata": {},
     "output_type": "execute_result"
    }
   ],
   "source": [
    "import math\n",
    "n = 100\n",
    "k = 50\n",
    "math.comb(n, k)"
   ]
  },
  {
   "cell_type": "code",
   "execution_count": 175,
   "metadata": {},
   "outputs": [
    {
     "data": {
      "text/plain": [
       "7.958923738717876"
      ]
     },
     "execution_count": 175,
     "metadata": {},
     "output_type": "execute_result"
    }
   ],
   "source": [
    "# Page 150\n",
    "p = 0.5\n",
    "100 * math.comb(n, k) * (p**k) * ((1-p)**(n-k))\n",
    "# You need to be able to convert a mathematical formula into code easily\n",
    "# Practice this as much as possible"
   ]
  },
  {
   "cell_type": "markdown",
   "metadata": {},
   "source": [
    "EXERCISE\n",
    "\n",
    "What is the expected number of heads?"
   ]
  },
  {
   "cell_type": "code",
   "execution_count": 176,
   "metadata": {},
   "outputs": [
    {
     "data": {
      "text/plain": [
       "50.0"
      ]
     },
     "execution_count": 176,
     "metadata": {},
     "output_type": "execute_result"
    }
   ],
   "source": [
    "# YOUR CODE HERE\n",
    "mu = n*p\n",
    "mu"
   ]
  },
  {
   "cell_type": "code",
   "execution_count": 177,
   "metadata": {},
   "outputs": [
    {
     "data": {
      "text/plain": [
       "50.0"
      ]
     },
     "execution_count": 177,
     "metadata": {},
     "output_type": "execute_result"
    }
   ],
   "source": [
    "# Page 150\n",
    "mu = n*p\n",
    "mu"
   ]
  },
  {
   "cell_type": "markdown",
   "metadata": {},
   "source": [
    "so we expect 50 heads from 100 fair coin flips, but the probability of that happening is %7.96.\n",
    "\n",
    "Remember the beginning of Chapter 1 (Page 10):\n",
    "\n",
    "> Suppose you flip a coin 100 times. While the chance a coin lands heads in any given coin flip is 50%, we probably won’t observe exactly 50 heads. This type of fluctuation is part of almost \n",
    "any type of data generating process.\n",
    "\n"
   ]
  },
  {
   "cell_type": "markdown",
   "metadata": {},
   "source": [
    "## 4. Negative Binomial Distribution (Page 158 - Section 4.4)\n",
    "\n",
    "Simulating the number of days until a manufacturing plant produces $k=5$ defective items, given that the probability of producing a defective item on any given day is $p=0.05$."
   ]
  },
  {
   "cell_type": "code",
   "execution_count": 180,
   "metadata": {},
   "outputs": [
    {
     "data": {
      "text/plain": [
       "Text(0, 0.5, 'Frequency')"
      ]
     },
     "execution_count": 180,
     "metadata": {},
     "output_type": "execute_result"
    },
    {
     "data": {
      "image/png": "[encoded data removed]",
      "text/plain": [
       "<Figure size 640x480 with 1 Axes>"
      ]
     },
     "metadata": {},
     "output_type": "display_data"
    }
   ],
   "source": [
    "# Parameters\n",
    "k = 5    # Number of defective items\n",
    "p = 0.05  # Probability of producing a defective item on a given day\n",
    "size = 1000 # Number of samples\n",
    "\n",
    "# Generate samples\n",
    "days_until_5_defects = np.random.negative_binomial(k, p, size)\n",
    "\n",
    "# Plot\n",
    "plt.hist(days_until_5_defects, bins=30, density=True)\n",
    "plt.title('Negative Binomial Distribution: Days Until 5 Defective Items')\n",
    "plt.xlabel('Number of Days')\n",
    "plt.ylabel('Frequency')"
   ]
  },
  {
   "cell_type": "markdown",
   "metadata": {},
   "source": [
    "## 5. Poisson distribution (Page 163 - Section 4.5)\n",
    "\n",
    "Simulating the number of cars ($k$) passing through a toll booth in one hour, where the average rate is $λ=5$ cars per hour.\n",
    "\n"
   ]
  },
  {
   "cell_type": "code",
   "execution_count": 181,
   "metadata": {},
   "outputs": [
    {
     "data": {
      "text/plain": [
       "Text(0, 0.5, 'Frequency')"
      ]
     },
     "execution_count": 181,
     "metadata": {},
     "output_type": "execute_result"
    },
    {
     "data": {
      "image/png": "[encoded data removed]",
      "text/plain": [
       "<Figure size 640x480 with 1 Axes>"
      ]
     },
     "metadata": {},
     "output_type": "display_data"
    }
   ],
   "source": [
    "# Parameters\n",
    "rate = 5   # λ\n",
    "size = 1000 # Number of simulations\n",
    "\n",
    "# Generate samples\n",
    "cars_per_hour = np.random.poisson(rate, size)\n",
    "\n",
    "# Plot\n",
    "plt.hist(cars_per_hour, bins=range(0, 15), density=True)\n",
    "plt.title('Poisson Distribution: Number of Cars Passing Through a Toll Booth in One Hour')\n",
    "plt.xlabel('Number of Cars')\n",
    "plt.ylabel('Frequency')"
   ]
  },
  {
   "cell_type": "markdown",
   "metadata": {},
   "source": [
    "EXERCISE\n",
    "\n",
    "Calculate the probability of $k=2$ using the formula:\n",
    "\n",
    "$P(k) = \\frac{\\lambda^k e^{-\\lambda}}{k!}$\n",
    "\n",
    "Solution available."
   ]
  },
  {
   "cell_type": "code",
   "execution_count": 182,
   "metadata": {},
   "outputs": [
    {
     "data": {
      "text/plain": [
       "0.08422433748856833"
      ]
     },
     "execution_count": 182,
     "metadata": {},
     "output_type": "execute_result"
    }
   ],
   "source": [
    "rate = 5\n",
    "k = 2\n",
    "# YOUR CODE HERE\n",
    "p = rate**k*math.exp(-rate)/math.factorial(k)\n",
    "p"
   ]
  },
  {
   "cell_type": "code",
   "execution_count": 183,
   "metadata": {},
   "outputs": [
    {
     "data": {
      "text/plain": [
       "0.08422433748856833"
      ]
     },
     "execution_count": 183,
     "metadata": {},
     "output_type": "execute_result"
    }
   ],
   "source": [
    "rate**k * math.exp(-rate) / math.factorial(k)"
   ]
  }
 ],
 "metadata": {
  "kernelspec": {
   "display_name": "y2a_24",
   "language": "python",
   "name": "python3"
  },
  "language_info": {
   "codemirror_mode": {
    "name": "ipython",
    "version": 3
   },
   "file_extension": ".py",
   "mimetype": "text/x-python",
   "name": "python",
   "nbconvert_exporter": "python",
   "pygments_lexer": "ipython3",
   "version": "3.11.5"
  }
 },
 "nbformat": 4,
 "nbformat_minor": 2
}
