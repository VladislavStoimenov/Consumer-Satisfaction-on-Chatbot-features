{
 "cells": [
  {
   "cell_type": "code",
   "execution_count": 1,
   "metadata": {},
   "outputs": [],
   "source": [
    "import numpy as np\n",
    "import pandas as pd\n",
    "import matplotlib.pyplot as plt\n",
    "\n",
    "from scipy.stats import norm"
   ]
  },
  {
   "cell_type": "markdown",
   "metadata": {},
   "source": [
    "# 1. When normal approximation fails (Page 211 - Section 6.1.4)"
   ]
  },
  {
   "cell_type": "markdown",
   "metadata": {},
   "source": [
    "In the last notebook, when calculating the CI for our ML model, we increased our test set size to satisfy the success/failure condition. Now let's see how to calculate a CI even if we cannot approximate the sampling distribution as a normal distribution."
   ]
  },
  {
   "cell_type": "code",
   "execution_count": 2,
   "metadata": {},
   "outputs": [
    {
     "name": "stdout",
     "output_type": "stream",
     "text": [
      "The accuracy of our model is 96.5% on the test set.\n"
     ]
    }
   ],
   "source": [
    "# Same code from notebook 5\n",
    "# test_size = 0.2\n",
    "from sklearn.datasets import load_breast_cancer\n",
    "breast_cancer = load_breast_cancer()\n",
    "X = breast_cancer.data\n",
    "y = breast_cancer.target\n",
    "\n",
    "from sklearn.model_selection import train_test_split\n",
    "X_train, X_test, y_train, y_test = train_test_split(X, y, test_size = 0.2, random_state=42)\n",
    "X_train.shape, X_test.shape\n",
    "\n",
    "from sklearn.ensemble import RandomForestClassifier\n",
    "clf = RandomForestClassifier(random_state=42)\n",
    "clf.fit(X_train, y_train)\n",
    "\n",
    "y_pred = clf.predict(X_test)\n",
    "\n",
    "from sklearn.metrics import accuracy_score\n",
    "accuracy = accuracy_score(y_test, y_pred)\n",
    "print(f'The accuracy of our model is {100*accuracy:.1f}% on the test set.')"
   ]
  },
  {
   "cell_type": "code",
   "execution_count": 3,
   "metadata": {},
   "outputs": [
    {
     "data": {
      "text/plain": [
       "(110, 4)"
      ]
     },
     "execution_count": 3,
     "metadata": {},
     "output_type": "execute_result"
    }
   ],
   "source": [
    "# Success - Failure condition isn't met\n",
    "successes = np.sum(y_pred == y_test)\n",
    "failures = np.sum(y_pred != y_test)\n",
    "\n",
    "successes, failures"
   ]
  },
  {
   "cell_type": "markdown",
   "metadata": {},
   "source": [
    "From our textbook \"For a confidence interval when the success-failure condition isn’t met, we can use what’s called the Clopper-Pearson interval.\"\n",
    "\n",
    "Clopper and Pearson described this confidence interval in their 1934 paper:\n",
    "\n",
    "Clopper, Charles J., and Egon S. Pearson. \"The use of confidence or fiducial limits illustrated in the case of the binomial.\" Biometrika 26.4 (1934): 404-413. [Link to paper.](https://www.jstor.org/stable/2331986)\n",
    "\n"
   ]
  },
  {
   "cell_type": "markdown",
   "metadata": {},
   "source": [
    "Again from the textbook: \"The details are beyond the scope of this book. However, there are many internet resources covering this topic.\"\n",
    "\n",
    "EXERCISE\n",
    "\n",
    "Find a resource and calculate the Clopper-Pearson interval. Solution available below:"
   ]
  },
  {
   "cell_type": "code",
   "execution_count": 4,
   "metadata": {},
   "outputs": [],
   "source": [
    "# YOUR CODE HERE"
   ]
  },
  {
   "cell_type": "code",
   "execution_count": 4,
   "metadata": {},
   "outputs": [],
   "source": [
    "from scipy.stats import beta"
   ]
  },
  {
   "cell_type": "code",
   "execution_count": 5,
   "metadata": {},
   "outputs": [
    {
     "data": {
      "text/plain": [
       "114"
      ]
     },
     "execution_count": 5,
     "metadata": {},
     "output_type": "execute_result"
    }
   ],
   "source": [
    "trials = X_test.shape[0]\n",
    "trials"
   ]
  },
  {
   "cell_type": "code",
   "execution_count": 6,
   "metadata": {},
   "outputs": [
    {
     "name": "stdout",
     "output_type": "stream",
     "text": [
      "Clopper-Pearson confidence interval: [0.9125955422149606, 0.9903585051787718]\n"
     ]
    }
   ],
   "source": [
    "confidence_level = 0.95\n",
    "\n",
    "# Calculate alpha (significance level)\n",
    "alpha = 1 - confidence_level\n",
    "\n",
    "# Calculate the lower and upper bounds using the beta distribution\n",
    "lower_bound = beta.ppf(alpha / 2, successes, trials - successes + 1)\n",
    "upper_bound = beta.ppf(1 - alpha / 2, successes + 1, trials - successes)\n",
    "\n",
    "print(f\"Clopper-Pearson confidence interval: [{lower_bound}, {upper_bound}]\")"
   ]
  },
  {
   "cell_type": "code",
   "execution_count": 7,
   "metadata": {},
   "outputs": [
    {
     "name": "stdout",
     "output_type": "stream",
     "text": [
      "96.5 (95% CI: 91.3% - 99.0%)\n"
     ]
    }
   ],
   "source": [
    "print(f\"{accuracy*100:.1f} (95% CI: {lower_bound*100:.1f}% - {upper_bound*100:.1f}%)\")"
   ]
  },
  {
   "cell_type": "markdown",
   "metadata": {},
   "source": [
    "## 2. Difference of two proportions (Page 217 - Section 6.2)"
   ]
  },
  {
   "cell_type": "markdown",
   "metadata": {},
   "source": [
    "Let's use the stack overflow survey again."
   ]
  },
  {
   "cell_type": "code",
   "execution_count": 8,
   "metadata": {},
   "outputs": [
    {
     "data": {
      "text/html": [
       "<div>\n",
       "<style scoped>\n",
       "    .dataframe tbody tr th:only-of-type {\n",
       "        vertical-align: middle;\n",
       "    }\n",
       "\n",
       "    .dataframe tbody tr th {\n",
       "        vertical-align: top;\n",
       "    }\n",
       "\n",
       "    .dataframe thead th {\n",
       "        text-align: right;\n",
       "    }\n",
       "</style>\n",
       "<table border=\"1\" class=\"dataframe\">\n",
       "  <thead>\n",
       "    <tr style=\"text-align: right;\">\n",
       "      <th></th>\n",
       "      <th>ResponseId</th>\n",
       "      <th>MainBranch</th>\n",
       "      <th>Age</th>\n",
       "      <th>Employment</th>\n",
       "      <th>RemoteWork</th>\n",
       "      <th>Check</th>\n",
       "      <th>CodingActivities</th>\n",
       "      <th>EdLevel</th>\n",
       "      <th>LearnCode</th>\n",
       "      <th>LearnCodeOnline</th>\n",
       "      <th>...</th>\n",
       "      <th>JobSatPoints_6</th>\n",
       "      <th>JobSatPoints_7</th>\n",
       "      <th>JobSatPoints_8</th>\n",
       "      <th>JobSatPoints_9</th>\n",
       "      <th>JobSatPoints_10</th>\n",
       "      <th>JobSatPoints_11</th>\n",
       "      <th>SurveyLength</th>\n",
       "      <th>SurveyEase</th>\n",
       "      <th>ConvertedCompYearly</th>\n",
       "      <th>JobSat</th>\n",
       "    </tr>\n",
       "  </thead>\n",
       "  <tbody>\n",
       "    <tr>\n",
       "      <th>0</th>\n",
       "      <td>1</td>\n",
       "      <td>I am a developer by profession</td>\n",
       "      <td>Under 18 years old</td>\n",
       "      <td>Employed, full-time</td>\n",
       "      <td>Remote</td>\n",
       "      <td>Apples</td>\n",
       "      <td>Hobby</td>\n",
       "      <td>Primary/elementary school</td>\n",
       "      <td>Books / Physical media</td>\n",
       "      <td>NaN</td>\n",
       "      <td>...</td>\n",
       "      <td>NaN</td>\n",
       "      <td>NaN</td>\n",
       "      <td>NaN</td>\n",
       "      <td>NaN</td>\n",
       "      <td>NaN</td>\n",
       "      <td>NaN</td>\n",
       "      <td>NaN</td>\n",
       "      <td>NaN</td>\n",
       "      <td>NaN</td>\n",
       "      <td>NaN</td>\n",
       "    </tr>\n",
       "    <tr>\n",
       "      <th>1</th>\n",
       "      <td>2</td>\n",
       "      <td>I am a developer by profession</td>\n",
       "      <td>35-44 years old</td>\n",
       "      <td>Employed, full-time</td>\n",
       "      <td>Remote</td>\n",
       "      <td>Apples</td>\n",
       "      <td>Hobby;Contribute to open-source projects;Other...</td>\n",
       "      <td>Bachelor’s degree (B.A., B.S., B.Eng., etc.)</td>\n",
       "      <td>Books / Physical media;Colleague;On the job tr...</td>\n",
       "      <td>Technical documentation;Blogs;Books;Written Tu...</td>\n",
       "      <td>...</td>\n",
       "      <td>0.0</td>\n",
       "      <td>0.0</td>\n",
       "      <td>0.0</td>\n",
       "      <td>0.0</td>\n",
       "      <td>0.0</td>\n",
       "      <td>0.0</td>\n",
       "      <td>NaN</td>\n",
       "      <td>NaN</td>\n",
       "      <td>NaN</td>\n",
       "      <td>NaN</td>\n",
       "    </tr>\n",
       "    <tr>\n",
       "      <th>2</th>\n",
       "      <td>3</td>\n",
       "      <td>I am a developer by profession</td>\n",
       "      <td>45-54 years old</td>\n",
       "      <td>Employed, full-time</td>\n",
       "      <td>Remote</td>\n",
       "      <td>Apples</td>\n",
       "      <td>Hobby;Contribute to open-source projects;Other...</td>\n",
       "      <td>Master’s degree (M.A., M.S., M.Eng., MBA, etc.)</td>\n",
       "      <td>Books / Physical media;Colleague;On the job tr...</td>\n",
       "      <td>Technical documentation;Blogs;Books;Written Tu...</td>\n",
       "      <td>...</td>\n",
       "      <td>NaN</td>\n",
       "      <td>NaN</td>\n",
       "      <td>NaN</td>\n",
       "      <td>NaN</td>\n",
       "      <td>NaN</td>\n",
       "      <td>NaN</td>\n",
       "      <td>Appropriate in length</td>\n",
       "      <td>Easy</td>\n",
       "      <td>NaN</td>\n",
       "      <td>NaN</td>\n",
       "    </tr>\n",
       "    <tr>\n",
       "      <th>3</th>\n",
       "      <td>4</td>\n",
       "      <td>I am learning to code</td>\n",
       "      <td>18-24 years old</td>\n",
       "      <td>Student, full-time</td>\n",
       "      <td>NaN</td>\n",
       "      <td>Apples</td>\n",
       "      <td>NaN</td>\n",
       "      <td>Some college/university study without earning ...</td>\n",
       "      <td>Other online resources (e.g., videos, blogs, f...</td>\n",
       "      <td>Stack Overflow;How-to videos;Interactive tutorial</td>\n",
       "      <td>...</td>\n",
       "      <td>NaN</td>\n",
       "      <td>NaN</td>\n",
       "      <td>NaN</td>\n",
       "      <td>NaN</td>\n",
       "      <td>NaN</td>\n",
       "      <td>NaN</td>\n",
       "      <td>Too long</td>\n",
       "      <td>Easy</td>\n",
       "      <td>NaN</td>\n",
       "      <td>NaN</td>\n",
       "    </tr>\n",
       "    <tr>\n",
       "      <th>4</th>\n",
       "      <td>5</td>\n",
       "      <td>I am a developer by profession</td>\n",
       "      <td>18-24 years old</td>\n",
       "      <td>Student, full-time</td>\n",
       "      <td>NaN</td>\n",
       "      <td>Apples</td>\n",
       "      <td>NaN</td>\n",
       "      <td>Secondary school (e.g. American high school, G...</td>\n",
       "      <td>Other online resources (e.g., videos, blogs, f...</td>\n",
       "      <td>Technical documentation;Blogs;Written Tutorial...</td>\n",
       "      <td>...</td>\n",
       "      <td>NaN</td>\n",
       "      <td>NaN</td>\n",
       "      <td>NaN</td>\n",
       "      <td>NaN</td>\n",
       "      <td>NaN</td>\n",
       "      <td>NaN</td>\n",
       "      <td>Too short</td>\n",
       "      <td>Easy</td>\n",
       "      <td>NaN</td>\n",
       "      <td>NaN</td>\n",
       "    </tr>\n",
       "  </tbody>\n",
       "</table>\n",
       "<p>5 rows × 114 columns</p>\n",
       "</div>"
      ],
      "text/plain": [
       "   ResponseId                      MainBranch                 Age  \\\n",
       "0           1  I am a developer by profession  Under 18 years old   \n",
       "1           2  I am a developer by profession     35-44 years old   \n",
       "2           3  I am a developer by profession     45-54 years old   \n",
       "3           4           I am learning to code     18-24 years old   \n",
       "4           5  I am a developer by profession     18-24 years old   \n",
       "\n",
       "            Employment RemoteWork   Check  \\\n",
       "0  Employed, full-time     Remote  Apples   \n",
       "1  Employed, full-time     Remote  Apples   \n",
       "2  Employed, full-time     Remote  Apples   \n",
       "3   Student, full-time        NaN  Apples   \n",
       "4   Student, full-time        NaN  Apples   \n",
       "\n",
       "                                    CodingActivities  \\\n",
       "0                                              Hobby   \n",
       "1  Hobby;Contribute to open-source projects;Other...   \n",
       "2  Hobby;Contribute to open-source projects;Other...   \n",
       "3                                                NaN   \n",
       "4                                                NaN   \n",
       "\n",
       "                                             EdLevel  \\\n",
       "0                          Primary/elementary school   \n",
       "1       Bachelor’s degree (B.A., B.S., B.Eng., etc.)   \n",
       "2    Master’s degree (M.A., M.S., M.Eng., MBA, etc.)   \n",
       "3  Some college/university study without earning ...   \n",
       "4  Secondary school (e.g. American high school, G...   \n",
       "\n",
       "                                           LearnCode  \\\n",
       "0                             Books / Physical media   \n",
       "1  Books / Physical media;Colleague;On the job tr...   \n",
       "2  Books / Physical media;Colleague;On the job tr...   \n",
       "3  Other online resources (e.g., videos, blogs, f...   \n",
       "4  Other online resources (e.g., videos, blogs, f...   \n",
       "\n",
       "                                     LearnCodeOnline  ... JobSatPoints_6  \\\n",
       "0                                                NaN  ...            NaN   \n",
       "1  Technical documentation;Blogs;Books;Written Tu...  ...            0.0   \n",
       "2  Technical documentation;Blogs;Books;Written Tu...  ...            NaN   \n",
       "3  Stack Overflow;How-to videos;Interactive tutorial  ...            NaN   \n",
       "4  Technical documentation;Blogs;Written Tutorial...  ...            NaN   \n",
       "\n",
       "  JobSatPoints_7 JobSatPoints_8 JobSatPoints_9 JobSatPoints_10  \\\n",
       "0            NaN            NaN            NaN             NaN   \n",
       "1            0.0            0.0            0.0             0.0   \n",
       "2            NaN            NaN            NaN             NaN   \n",
       "3            NaN            NaN            NaN             NaN   \n",
       "4            NaN            NaN            NaN             NaN   \n",
       "\n",
       "  JobSatPoints_11           SurveyLength SurveyEase ConvertedCompYearly JobSat  \n",
       "0             NaN                    NaN        NaN                 NaN    NaN  \n",
       "1             0.0                    NaN        NaN                 NaN    NaN  \n",
       "2             NaN  Appropriate in length       Easy                 NaN    NaN  \n",
       "3             NaN               Too long       Easy                 NaN    NaN  \n",
       "4             NaN              Too short       Easy                 NaN    NaN  \n",
       "\n",
       "[5 rows x 114 columns]"
      ]
     },
     "execution_count": 8,
     "metadata": {},
     "output_type": "execute_result"
    }
   ],
   "source": [
    "survey = pd.read_csv('survey_results_public.csv')\n",
    "survey.head()"
   ]
  },
  {
   "cell_type": "markdown",
   "metadata": {},
   "source": [
    "For this exercise, our aim is to explore whether there is a significant difference between professional developers under the age of 35 and those 35 and over in their likelihood of using AI-powered search tools as their first choice when faced with a technical question at work. This investigation will help us understand how age influences the adoption of AI in problem-solving among developers.\n",
    "\n",
    "Use the data from the following 3 questions.\n",
    "\n",
    "Q1 Which of the following options best describes you today? For the purpose of this survey, a developer is \"someone who writes code\".*\n",
    "\n",
    "Q2 What is your age?*\n",
    "\n",
    "Q3 When you have a technical question at work, where do you first go to get an answer?\n",
    "\n",
    "Required questions are noted with *, meaning these columns do not contain NaN values.\n",
    "\n",
    "EXERCISE:\n",
    "\n",
    "estimate the difference $p_1 - p_2$, where $p_1$ is the proportion of under-35 developers who choose AI-powered search and $p_2$ is the proportion of those 35 and older who do the same. Calculate the 95% confidence interval for this difference and decide if it is statistically and practically significant."
   ]
  },
  {
   "cell_type": "code",
   "execution_count": 9,
   "metadata": {},
   "outputs": [],
   "source": [
    "# YOUR CODE HERE"
   ]
  },
  {
   "cell_type": "markdown",
   "metadata": {},
   "source": [
    "SOLUTION:"
   ]
  },
  {
   "cell_type": "code",
   "execution_count": 10,
   "metadata": {},
   "outputs": [],
   "source": [
    "# Since we are interested in \"professional developers\"\n",
    "# filter accordingly\n",
    "developers = survey[survey['MainBranch'] == 'I am a developer by profession']"
   ]
  },
  {
   "cell_type": "markdown",
   "metadata": {},
   "source": [
    "Next step is to create two groups by age:\n",
    "\n",
    "1. Group 1: Age < 35\n",
    "2. Group 2: Age >= 35"
   ]
  },
  {
   "cell_type": "code",
   "execution_count": 11,
   "metadata": {},
   "outputs": [
    {
     "data": {
      "text/plain": [
       "Age\n",
       "25-34 years old       20887\n",
       "35-44 years old       12705\n",
       "18-24 years old        9032\n",
       "45-54 years old        4937\n",
       "55-64 years old        1850\n",
       "65 years or older       353\n",
       "Under 18 years old      296\n",
       "Prefer not to say       147\n",
       "Name: count, dtype: int64"
      ]
     },
     "execution_count": 11,
     "metadata": {},
     "output_type": "execute_result"
    }
   ],
   "source": [
    "developers['Age'].value_counts()"
   ]
  },
  {
   "cell_type": "markdown",
   "metadata": {},
   "source": [
    "since this question is required we do not expect NaN values. We will still drop \"Prefer not to say\""
   ]
  },
  {
   "cell_type": "code",
   "execution_count": 12,
   "metadata": {},
   "outputs": [],
   "source": [
    "developers = developers[developers['Age'] != 'Prefer not to say']"
   ]
  },
  {
   "cell_type": "markdown",
   "metadata": {},
   "source": [
    "Now let's create our two groups `under35` and `over35`:"
   ]
  },
  {
   "cell_type": "code",
   "execution_count": 14,
   "metadata": {},
   "outputs": [
    {
     "data": {
      "text/plain": [
       "30215"
      ]
     },
     "execution_count": 14,
     "metadata": {},
     "output_type": "execute_result"
    }
   ],
   "source": [
    "under35 = developers[developers['Age'].isin(['Under 18 years old', '18-24 years old', '25-34 years old'])]\n",
    "n1 = len(under35)\n",
    "n1"
   ]
  },
  {
   "cell_type": "code",
   "execution_count": 15,
   "metadata": {},
   "outputs": [
    {
     "data": {
      "text/plain": [
       "19845"
      ]
     },
     "execution_count": 15,
     "metadata": {},
     "output_type": "execute_result"
    }
   ],
   "source": [
    "over35 = developers[developers['Age'].isin(['35-44 years old', '45-54 years old', '55-64 years old', '65 years or older'])]\n",
    "n2 = len(over35)\n",
    "n2"
   ]
  },
  {
   "cell_type": "markdown",
   "metadata": {},
   "source": [
    "Now let's move to Q3. If you look at `survey_results_schema.csv`, you will see that Q3 column name is `ProfessionalQuestion`"
   ]
  },
  {
   "cell_type": "markdown",
   "metadata": {},
   "source": [
    "Q1 and Q2 are required to answer. Q3 is not. So let's dropna. Note our propose at this point is to focus on difference of two proportions. When analyzing your creative brief data always make sure you are not introducing any bias by dropping columns."
   ]
  },
  {
   "cell_type": "code",
   "execution_count": 16,
   "metadata": {},
   "outputs": [
    {
     "data": {
      "text/plain": [
       "15638"
      ]
     },
     "execution_count": 16,
     "metadata": {},
     "output_type": "execute_result"
    }
   ],
   "source": [
    "under35 = under35.dropna(subset=['ProfessionalQuestion'])\n",
    "n1 = len(under35)\n",
    "n1"
   ]
  },
  {
   "cell_type": "code",
   "execution_count": 17,
   "metadata": {},
   "outputs": [
    {
     "data": {
      "text/plain": [
       "10636"
      ]
     },
     "execution_count": 17,
     "metadata": {},
     "output_type": "execute_result"
    }
   ],
   "source": [
    "over35 = over35.dropna(subset=['ProfessionalQuestion'])\n",
    "n2 = len(over35)\n",
    "n2"
   ]
  },
  {
   "cell_type": "code",
   "execution_count": 18,
   "metadata": {},
   "outputs": [
    {
     "data": {
      "text/plain": [
       "0.15110627957539327"
      ]
     },
     "execution_count": 18,
     "metadata": {},
     "output_type": "execute_result"
    }
   ],
   "source": [
    "p_hat_1 = np.sum(under35['ProfessionalQuestion'].str.contains('AI-powered'))/n1\n",
    "p_hat_1"
   ]
  },
  {
   "cell_type": "code",
   "execution_count": 19,
   "metadata": {},
   "outputs": [
    {
     "data": {
      "text/plain": [
       "0.14009025949605114"
      ]
     },
     "execution_count": 19,
     "metadata": {},
     "output_type": "execute_result"
    }
   ],
   "source": [
    "p_hat_2 = np.sum(over35['ProfessionalQuestion'].str.contains('AI-powered'))/n2\n",
    "p_hat_2"
   ]
  },
  {
   "cell_type": "code",
   "execution_count": 20,
   "metadata": {},
   "outputs": [
    {
     "data": {
      "text/plain": [
       "0.011016020079342131"
      ]
     },
     "execution_count": 20,
     "metadata": {},
     "output_type": "execute_result"
    }
   ],
   "source": [
    "p_hat_1 - p_hat_2"
   ]
  },
  {
   "cell_type": "markdown",
   "metadata": {},
   "source": [
    "So our point estimate for the difference is:\n",
    "\n",
    "$\\hat{p}_1 - \\hat{p}_2 = 0.011$"
   ]
  },
  {
   "cell_type": "markdown",
   "metadata": {},
   "source": [
    "as you know the standard error for this estimate is:\n",
    "\n",
    "$\\text{SE}_{\\hat{p}_1 - \\hat{p}_2}\\approx \\sqrt{\\frac{\\hat{p}_1(1 - \\hat{p}_1)}{n_1} + \\frac{\\hat{p}_2(1 - \\hat{p}_2)}{n_2}}$\n",
    "\n",
    "but before doing this we need to check two conditions:\n",
    "\n",
    "*Condition 1: Independence*\n",
    "\n",
    "The responses from developers under 35 and those over 35 need to be independent. We can assume each developer completed the survey individually without influence from others, this ensures independence within each group. Additionally, the two groups (under 35 and over 35) should be independent of each other. The groups were independently stratified after data collection, this satisfies the between-group independence requirement. So this condition is satified.\n",
    "\n",
    "*Condition 2: Success-Failure*\n",
    "\n",
    "Since $\\hat{p}_1$ and $\\hat{p}_2$ are not very low or high, and since ${n_1}$ and ${n_2}$ are high we expect this condition to be satisfied, but let's check.\n",
    "\n",
    "IMPORTANT NOTE: In your creative brief analysis, failing to verify that the assumptions of your chosen technique are valid may result in a loss of points during grading."
   ]
  },
  {
   "cell_type": "code",
   "execution_count": 23,
   "metadata": {},
   "outputs": [
    {
     "data": {
      "text/plain": [
       "(True, True)"
      ]
     },
     "execution_count": 23,
     "metadata": {},
     "output_type": "execute_result"
    }
   ],
   "source": [
    "n1 * p_hat_1 >= 10, n1 * (1-p_hat_1) >= 10"
   ]
  },
  {
   "cell_type": "code",
   "execution_count": 24,
   "metadata": {},
   "outputs": [
    {
     "data": {
      "text/plain": [
       "(True, True)"
      ]
     },
     "execution_count": 24,
     "metadata": {},
     "output_type": "execute_result"
    }
   ],
   "source": [
    "n2 * p_hat_2 >= 10, n2 * (1-p_hat_2) >= 10"
   ]
  },
  {
   "cell_type": "markdown",
   "metadata": {},
   "source": [
    "so both conditions are satified we can approximate the sampling distribution as a normal distribution. Let's calculate the standard error:\n",
    "\n",
    "$\\text{SE}_{\\hat{p}_1 - \\hat{p}_2}\\approx \\sqrt{\\frac{\\hat{p}_1(1 - \\hat{p}_1)}{n_1} + \\frac{\\hat{p}_2(1 - \\hat{p}_2)}{n_2}}$"
   ]
  },
  {
   "cell_type": "code",
   "execution_count": 27,
   "metadata": {},
   "outputs": [
    {
     "data": {
      "text/plain": [
       "0.004419141639817424"
      ]
     },
     "execution_count": 27,
     "metadata": {},
     "output_type": "execute_result"
    }
   ],
   "source": [
    "se = np.sqrt((p_hat_1 * (1 - p_hat_1) / n1) + (p_hat_2 * (1 - p_hat_2) / n2))\n",
    "se"
   ]
  },
  {
   "cell_type": "code",
   "execution_count": 28,
   "metadata": {},
   "outputs": [
    {
     "data": {
      "text/plain": [
       "1.959963984540054"
      ]
     },
     "execution_count": 28,
     "metadata": {},
     "output_type": "execute_result"
    }
   ],
   "source": [
    "z = norm.ppf(0.975)\n",
    "z"
   ]
  },
  {
   "cell_type": "code",
   "execution_count": 31,
   "metadata": {},
   "outputs": [
    {
     "data": {
      "text/plain": [
       "0.008661358456623428"
      ]
     },
     "execution_count": 31,
     "metadata": {},
     "output_type": "execute_result"
    }
   ],
   "source": [
    "margin_of_error = z * se\n",
    "margin_of_error"
   ]
  },
  {
   "cell_type": "code",
   "execution_count": 32,
   "metadata": {},
   "outputs": [
    {
     "data": {
      "text/plain": [
       "0.011016020079342131"
      ]
     },
     "execution_count": 32,
     "metadata": {},
     "output_type": "execute_result"
    }
   ],
   "source": [
    "point_estimate = p_hat_1 - p_hat_2\n",
    "point_estimate"
   ]
  },
  {
   "cell_type": "code",
   "execution_count": 33,
   "metadata": {},
   "outputs": [
    {
     "data": {
      "text/plain": [
       "(0.002354661622718704, 0.01967737853596556)"
      ]
     },
     "execution_count": 33,
     "metadata": {},
     "output_type": "execute_result"
    }
   ],
   "source": [
    "lower_bound = point_estimate - margin_of_error\n",
    "upper_bound = point_estimate + margin_of_error\n",
    "lower_bound, upper_bound"
   ]
  },
  {
   "cell_type": "markdown",
   "metadata": {},
   "source": [
    "We are 95% confident that the difference in proportions between developers under 35 and those over 35 who use AI-powered search tools as their first choice lies between 0.24% and 1.97%. Since this confidence interval is entirely above zero, we can conclude that developers under 35 are more likely to use AI-powered search tools than those over 35. However, since the upper bound of this interval is less than 2%, the difference, while statistically significant, might not be practically significant. (Refer to Section 5.3.6 on page 199 for further context.)"
   ]
  },
  {
   "cell_type": "markdown",
   "metadata": {},
   "source": [
    "## 3. Chi-square (Section 6.4 - Page 240)"
   ]
  },
  {
   "cell_type": "markdown",
   "metadata": {},
   "source": [
    "EXERCISE:\n",
    "\n",
    "Now let's extend our previous analysis. You want to test if there is a significant difference between developers under 35 and those over 35 in how they respond to the question about their preferred source for technical answers."
   ]
  },
  {
   "cell_type": "code",
   "execution_count": 34,
   "metadata": {},
   "outputs": [],
   "source": [
    "# YOUR CODE HERE"
   ]
  },
  {
   "cell_type": "markdown",
   "metadata": {},
   "source": [
    "SOLUTION:\n",
    "\n",
    "Let's first create the contingency table using the value counts:"
   ]
  },
  {
   "cell_type": "code",
   "execution_count": 39,
   "metadata": {},
   "outputs": [],
   "source": [
    "under35_counts = under35['ProfessionalQuestion'].value_counts()\n",
    "over35_counts = over35['ProfessionalQuestion'].value_counts()"
   ]
  },
  {
   "cell_type": "code",
   "execution_count": 41,
   "metadata": {},
   "outputs": [
    {
     "data": {
      "text/plain": [
       "ProfessionalQuestion\n",
       "Traditional public search engine    8762\n",
       "A coworker                          2782\n",
       "AI-powered search (free)            1368\n",
       "AI-powered search (paid)             995\n",
       "Slack search                         546\n",
       "Name: count, dtype: int64"
      ]
     },
     "execution_count": 41,
     "metadata": {},
     "output_type": "execute_result"
    }
   ],
   "source": [
    "under35_counts.head()"
   ]
  },
  {
   "cell_type": "code",
   "execution_count": 42,
   "metadata": {},
   "outputs": [
    {
     "data": {
      "text/plain": [
       "ProfessionalQuestion\n",
       "Traditional public search engine    5822\n",
       "A coworker                          2004\n",
       "AI-powered search (paid)             821\n",
       "AI-powered search (free)             669\n",
       "Slack search                         415\n",
       "Name: count, dtype: int64"
      ]
     },
     "execution_count": 42,
     "metadata": {},
     "output_type": "execute_result"
    }
   ],
   "source": [
    "over35_counts.head()"
   ]
  },
  {
   "cell_type": "code",
   "execution_count": 45,
   "metadata": {},
   "outputs": [
    {
     "data": {
      "text/plain": [
       "['A coworker',\n",
       " 'AI-powered search (free)',\n",
       " 'AI-powered search (paid)',\n",
       " 'Do search of internal share drives/storage locations for documentation (i.e., not a structured knowledge base)',\n",
       " 'Internal Developer portal',\n",
       " 'Microsoft Teams search',\n",
       " 'Other:',\n",
       " 'Slack search',\n",
       " 'Traditional public search engine']"
      ]
     },
     "execution_count": 45,
     "metadata": {},
     "output_type": "execute_result"
    }
   ],
   "source": [
    "# possible choices\n",
    "choices = list(np.unique(under35['ProfessionalQuestion']))\n",
    "choices"
   ]
  },
  {
   "cell_type": "code",
   "execution_count": 53,
   "metadata": {},
   "outputs": [],
   "source": [
    "# Ensure both groups have the same index (categories)\n",
    "under35_counts = under35_counts.reindex(choices, fill_value=0)\n",
    "over35_counts = over35_counts.reindex(choices, fill_value=0)"
   ]
  },
  {
   "cell_type": "code",
   "execution_count": 60,
   "metadata": {},
   "outputs": [
    {
     "data": {
      "text/html": [
       "<div>\n",
       "<style scoped>\n",
       "    .dataframe tbody tr th:only-of-type {\n",
       "        vertical-align: middle;\n",
       "    }\n",
       "\n",
       "    .dataframe tbody tr th {\n",
       "        vertical-align: top;\n",
       "    }\n",
       "\n",
       "    .dataframe thead th {\n",
       "        text-align: right;\n",
       "    }\n",
       "</style>\n",
       "<table border=\"1\" class=\"dataframe\">\n",
       "  <thead>\n",
       "    <tr style=\"text-align: right;\">\n",
       "      <th></th>\n",
       "      <th>Under 35</th>\n",
       "      <th>Over 35</th>\n",
       "    </tr>\n",
       "    <tr>\n",
       "      <th>ProfessionalQuestion</th>\n",
       "      <th></th>\n",
       "      <th></th>\n",
       "    </tr>\n",
       "  </thead>\n",
       "  <tbody>\n",
       "    <tr>\n",
       "      <th>A coworker</th>\n",
       "      <td>2782</td>\n",
       "      <td>2004</td>\n",
       "    </tr>\n",
       "    <tr>\n",
       "      <th>AI-powered search (free)</th>\n",
       "      <td>1368</td>\n",
       "      <td>669</td>\n",
       "    </tr>\n",
       "    <tr>\n",
       "      <th>AI-powered search (paid)</th>\n",
       "      <td>995</td>\n",
       "      <td>821</td>\n",
       "    </tr>\n",
       "    <tr>\n",
       "      <th>Do search of internal share drives/storage locations for documentation (i.e., not a structured knowledge base)</th>\n",
       "      <td>491</td>\n",
       "      <td>294</td>\n",
       "    </tr>\n",
       "    <tr>\n",
       "      <th>Internal Developer portal</th>\n",
       "      <td>384</td>\n",
       "      <td>307</td>\n",
       "    </tr>\n",
       "    <tr>\n",
       "      <th>Microsoft Teams search</th>\n",
       "      <td>63</td>\n",
       "      <td>61</td>\n",
       "    </tr>\n",
       "    <tr>\n",
       "      <th>Other:</th>\n",
       "      <td>247</td>\n",
       "      <td>243</td>\n",
       "    </tr>\n",
       "    <tr>\n",
       "      <th>Slack search</th>\n",
       "      <td>546</td>\n",
       "      <td>415</td>\n",
       "    </tr>\n",
       "    <tr>\n",
       "      <th>Traditional public search engine</th>\n",
       "      <td>8762</td>\n",
       "      <td>5822</td>\n",
       "    </tr>\n",
       "  </tbody>\n",
       "</table>\n",
       "</div>"
      ],
      "text/plain": [
       "                                                    Under 35  Over 35\n",
       "ProfessionalQuestion                                                 \n",
       "A coworker                                              2782     2004\n",
       "AI-powered search (free)                                1368      669\n",
       "AI-powered search (paid)                                 995      821\n",
       "Do search of internal share drives/storage loca...       491      294\n",
       "Internal Developer portal                                384      307\n",
       "Microsoft Teams search                                    63       61\n",
       "Other:                                                   247      243\n",
       "Slack search                                             546      415\n",
       "Traditional public search engine                        8762     5822"
      ]
     },
     "execution_count": 60,
     "metadata": {},
     "output_type": "execute_result"
    }
   ],
   "source": [
    "# Create the contingency table\n",
    "data = pd.DataFrame({'Under 35': under35_counts, 'Over 35': over35_counts})\n",
    "data"
   ]
  },
  {
   "cell_type": "code",
   "execution_count": 61,
   "metadata": {},
   "outputs": [],
   "source": [
    "from scipy.stats import chi2_contingency"
   ]
  },
  {
   "cell_type": "code",
   "execution_count": 62,
   "metadata": {},
   "outputs": [],
   "source": [
    "# Perform the Chi-Square test\n",
    "chi2, p, dof, expected = chi2_contingency(data)"
   ]
  },
  {
   "cell_type": "code",
   "execution_count": 67,
   "metadata": {},
   "outputs": [
    {
     "name": "stdout",
     "output_type": "stream",
     "text": [
      "Chi-Square Statistic: 103.08622252204025\n",
      "P-value: 9.97665503703158e-19\n"
     ]
    }
   ],
   "source": [
    "print(f\"Chi-Square Statistic: {chi2}\")\n",
    "print(f\"P-value: {p}\")"
   ]
  },
  {
   "cell_type": "markdown",
   "metadata": {},
   "source": [
    "Since the p-value is so low, we can reject the null (null is no difference between two groups) meaning there is a very strong indication that age influences the choice of search method."
   ]
  },
  {
   "cell_type": "code",
   "execution_count": 68,
   "metadata": {},
   "outputs": [
    {
     "data": {
      "text/html": [
       "<div>\n",
       "<style scoped>\n",
       "    .dataframe tbody tr th:only-of-type {\n",
       "        vertical-align: middle;\n",
       "    }\n",
       "\n",
       "    .dataframe tbody tr th {\n",
       "        vertical-align: top;\n",
       "    }\n",
       "\n",
       "    .dataframe thead th {\n",
       "        text-align: right;\n",
       "    }\n",
       "</style>\n",
       "<table border=\"1\" class=\"dataframe\">\n",
       "  <thead>\n",
       "    <tr style=\"text-align: right;\">\n",
       "      <th></th>\n",
       "      <th>Under 35</th>\n",
       "      <th>Over 35</th>\n",
       "    </tr>\n",
       "    <tr>\n",
       "      <th>ProfessionalQuestion</th>\n",
       "      <th></th>\n",
       "      <th></th>\n",
       "    </tr>\n",
       "  </thead>\n",
       "  <tbody>\n",
       "    <tr>\n",
       "      <th>A coworker</th>\n",
       "      <td>2848.575322</td>\n",
       "      <td>1937.424678</td>\n",
       "    </tr>\n",
       "    <tr>\n",
       "      <th>AI-powered search (free)</th>\n",
       "      <td>1212.400320</td>\n",
       "      <td>824.599680</td>\n",
       "    </tr>\n",
       "    <tr>\n",
       "      <th>AI-powered search (paid)</th>\n",
       "      <td>1080.863515</td>\n",
       "      <td>735.136485</td>\n",
       "    </tr>\n",
       "    <tr>\n",
       "      <th>Do search of internal share drives/storage locations for documentation (i.e., not a structured knowledge base)</th>\n",
       "      <td>467.223491</td>\n",
       "      <td>317.776509</td>\n",
       "    </tr>\n",
       "    <tr>\n",
       "      <th>Internal Developer portal</th>\n",
       "      <td>411.275710</td>\n",
       "      <td>279.724290</td>\n",
       "    </tr>\n",
       "    <tr>\n",
       "      <th>Microsoft Teams search</th>\n",
       "      <td>73.803456</td>\n",
       "      <td>50.196544</td>\n",
       "    </tr>\n",
       "    <tr>\n",
       "      <th>Other:</th>\n",
       "      <td>291.642689</td>\n",
       "      <td>198.357311</td>\n",
       "    </tr>\n",
       "    <tr>\n",
       "      <th>Slack search</th>\n",
       "      <td>571.976783</td>\n",
       "      <td>389.023217</td>\n",
       "    </tr>\n",
       "    <tr>\n",
       "      <th>Traditional public search engine</th>\n",
       "      <td>8680.238715</td>\n",
       "      <td>5903.761285</td>\n",
       "    </tr>\n",
       "  </tbody>\n",
       "</table>\n",
       "</div>"
      ],
      "text/plain": [
       "                                                       Under 35      Over 35\n",
       "ProfessionalQuestion                                                        \n",
       "A coworker                                          2848.575322  1937.424678\n",
       "AI-powered search (free)                            1212.400320   824.599680\n",
       "AI-powered search (paid)                            1080.863515   735.136485\n",
       "Do search of internal share drives/storage loca...   467.223491   317.776509\n",
       "Internal Developer portal                            411.275710   279.724290\n",
       "Microsoft Teams search                                73.803456    50.196544\n",
       "Other:                                               291.642689   198.357311\n",
       "Slack search                                         571.976783   389.023217\n",
       "Traditional public search engine                    8680.238715  5903.761285"
      ]
     },
     "execution_count": 68,
     "metadata": {},
     "output_type": "execute_result"
    }
   ],
   "source": [
    "# These are the expected counts for each cell (Page 241)\n",
    "pd.DataFrame(expected, index=data.index, columns=data.columns)"
   ]
  }
 ],
 "metadata": {
  "kernelspec": {
   "display_name": "block_b",
   "language": "python",
   "name": "python3"
  },
  "language_info": {
   "codemirror_mode": {
    "name": "ipython",
    "version": 3
   },
   "file_extension": ".py",
   "mimetype": "text/x-python",
   "name": "python",
   "nbconvert_exporter": "python",
   "pygments_lexer": "ipython3",
   "version": "3.11.5"
  }
 },
 "nbformat": 4,
 "nbformat_minor": 2
}
